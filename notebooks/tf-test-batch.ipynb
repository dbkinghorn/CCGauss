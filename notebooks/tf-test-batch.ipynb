{
 "cells": [
  {
   "cell_type": "markdown",
   "id": "inclusive-acrylic",
   "metadata": {},
   "source": [
    "# Complex Correlated Gaussian Testing"
   ]
  },
  {
   "cell_type": "markdown",
   "id": "parallel-uniform",
   "metadata": {},
   "source": [
    "We need to work out all matrix operations with complex data type"
   ]
  },
  {
   "cell_type": "code",
   "execution_count": 2,
   "id": "amended-serve",
   "metadata": {},
   "outputs": [],
   "source": [
    "import torch as th\n",
    "\n",
    "import time\n",
    "\n",
    "import numpy as np\n",
    "import matplotlib.pyplot as plt  \n",
    "import seaborn as sns  \n",
    "%matplotlib inline\n",
    "sns.set()"
   ]
  },
  {
   "cell_type": "code",
   "execution_count": 42,
   "id": "governmental-canyon",
   "metadata": {},
   "outputs": [
    {
     "name": "stdout",
     "output_type": "stream",
     "text": [
      "Execution device:  cpu\n",
      "PyTorch version:  1.7.1\n",
      "CUDA version:  11.0\n",
      "CUDA device: TITAN V\n"
     ]
    }
   ],
   "source": [
    "#dtype = th.float64\n",
    "dtype = th.cdouble\n",
    "\n",
    "gpuid = 0\n",
    "#device = th.device(\"cuda:\"+ str(gpuid))\n",
    "device = th.device(\"cpu\")\n",
    "\n",
    "print(\"Execution device: \",device)\n",
    "print(\"PyTorch version: \", th.__version__ )\n",
    "print(\"CUDA version: \", th.version.cuda)\n",
    "print(\"CUDA device:\", th.cuda.get_device_name(gpuid))"
   ]
  },
  {
   "cell_type": "code",
   "execution_count": 43,
   "id": "bored-driving",
   "metadata": {},
   "outputs": [],
   "source": [
    "# Utility functions\n",
    "\n",
    "# Batched vech2L input V is nb x n(n+1)/2\n",
    "def bvech2L(V,nb,n):\n",
    "    count = 0\n",
    "    L = th.zeros((nb,n,n), device=device, dtype=dtype).clone().detach().requires_grad_(True)\n",
    "    for j in range(n):\n",
    "        for i in range(j,n):\n",
    "            L[...,i,j]=V[...,count]\n",
    "            count = count + 1\n",
    "    return L \n",
    "\n",
    "# Batched Cholesky decomp\n",
    "def bcholesky(A):\n",
    "    L = th.zeros_like(A)\n",
    "\n",
    "    for i in range(A.shape[-1]):\n",
    "        for j in range(i+1):\n",
    "            s = 0.0\n",
    "            for k in range(j):\n",
    "                s = s + L[...,i,k].clone() * L[...,j,k].clone()\n",
    "\n",
    "            L[...,i,j] = th.sqrt(A[...,i,i] - s) if (i == j) else \\\n",
    "                      (1.0 / L[...,j,j].clone() * (A[...,i,j] - s))\n",
    "    return L\n",
    "\n",
    "# Batched inverse of lower triangular matrices\n",
    "def inverseL(L):\n",
    "    n = L.shape[-1]\n",
    "    invL = th.zeros_like(L)\n",
    "    for j in range(0,n):\n",
    "        invL[...,j,j] = 1.0/L[...,j,j]\n",
    "        for i in range(j+1,n):\n",
    "            S = 0.0\n",
    "            for k in range(i+1):\n",
    "                S = S - L[...,i,k]*invL[...,k,j].clone()\n",
    "            invL[...,i,j] = S/L[...,i,i]\n",
    "\n",
    "    return invL"
   ]
  },
  {
   "cell_type": "code",
   "execution_count": 44,
   "id": "beautiful-craft",
   "metadata": {},
   "outputs": [],
   "source": [
    "def test_loop(n=4,m=1000):\n",
    "\n",
    "    nn = int(n*(n+1)/2)\n",
    "\n",
    "    th.manual_seed(42)\n",
    "    X = th.rand((m,nn), device=device, dtype=dtype)\n",
    "    L = th.add(bvech2L(X,m,n), th.eye(n))\n",
    "    A = th.matmul(L,th.transpose(L, 1, 2))\n",
    "    #print(\"Shape of A {}\".format(A.shape))\n",
    "\n",
    "    start_time = time.time()\n",
    "\n",
    "    cholA = th.zeros_like(A)\n",
    "    for i in range(m):\n",
    "        cholA[i,:,:] = th.cholesky(A[i], upper=False)\n",
    "\n",
    "    runtime = time.time() - start_time\n",
    "    print(\"loop version took {} seconds \".format(runtime))\n",
    "    return runtime"
   ]
  },
  {
   "cell_type": "code",
   "execution_count": 45,
   "id": "several-action",
   "metadata": {},
   "outputs": [
    {
     "ename": "RuntimeError",
     "evalue": "bmm does not support automatic differentiation for outputs with complex dtype.",
     "output_type": "error",
     "traceback": [
      "\u001b[0;31m---------------------------------------------------------------------------\u001b[0m",
      "\u001b[0;31mRuntimeError\u001b[0m                              Traceback (most recent call last)",
      "\u001b[0;32m<ipython-input-45-a9269531c7f3>\u001b[0m in \u001b[0;36m<module>\u001b[0;34m\u001b[0m\n\u001b[0;32m----> 1\u001b[0;31m \u001b[0mtest_loop\u001b[0m\u001b[0;34m(\u001b[0m\u001b[0mn\u001b[0m\u001b[0;34m=\u001b[0m\u001b[0;36m10\u001b[0m\u001b[0;34m,\u001b[0m\u001b[0mm\u001b[0m\u001b[0;34m=\u001b[0m\u001b[0;36m10000\u001b[0m\u001b[0;34m)\u001b[0m\u001b[0;34m\u001b[0m\u001b[0;34m\u001b[0m\u001b[0m\n\u001b[0m",
      "\u001b[0;32m<ipython-input-44-22efb880b4b3>\u001b[0m in \u001b[0;36mtest_loop\u001b[0;34m(n, m)\u001b[0m\n\u001b[1;32m      6\u001b[0m     \u001b[0mX\u001b[0m \u001b[0;34m=\u001b[0m \u001b[0mth\u001b[0m\u001b[0;34m.\u001b[0m\u001b[0mrand\u001b[0m\u001b[0;34m(\u001b[0m\u001b[0;34m(\u001b[0m\u001b[0mm\u001b[0m\u001b[0;34m,\u001b[0m\u001b[0mnn\u001b[0m\u001b[0;34m)\u001b[0m\u001b[0;34m,\u001b[0m \u001b[0mdevice\u001b[0m\u001b[0;34m=\u001b[0m\u001b[0mdevice\u001b[0m\u001b[0;34m,\u001b[0m \u001b[0mdtype\u001b[0m\u001b[0;34m=\u001b[0m\u001b[0mdtype\u001b[0m\u001b[0;34m)\u001b[0m\u001b[0;34m\u001b[0m\u001b[0;34m\u001b[0m\u001b[0m\n\u001b[1;32m      7\u001b[0m     \u001b[0mL\u001b[0m \u001b[0;34m=\u001b[0m \u001b[0mth\u001b[0m\u001b[0;34m.\u001b[0m\u001b[0madd\u001b[0m\u001b[0;34m(\u001b[0m\u001b[0mbvech2L\u001b[0m\u001b[0;34m(\u001b[0m\u001b[0mX\u001b[0m\u001b[0;34m,\u001b[0m\u001b[0mm\u001b[0m\u001b[0;34m,\u001b[0m\u001b[0mn\u001b[0m\u001b[0;34m)\u001b[0m\u001b[0;34m,\u001b[0m \u001b[0mth\u001b[0m\u001b[0;34m.\u001b[0m\u001b[0meye\u001b[0m\u001b[0;34m(\u001b[0m\u001b[0mn\u001b[0m\u001b[0;34m)\u001b[0m\u001b[0;34m)\u001b[0m\u001b[0;34m\u001b[0m\u001b[0;34m\u001b[0m\u001b[0m\n\u001b[0;32m----> 8\u001b[0;31m     \u001b[0mA\u001b[0m \u001b[0;34m=\u001b[0m \u001b[0mth\u001b[0m\u001b[0;34m.\u001b[0m\u001b[0mmatmul\u001b[0m\u001b[0;34m(\u001b[0m\u001b[0mL\u001b[0m\u001b[0;34m,\u001b[0m\u001b[0mth\u001b[0m\u001b[0;34m.\u001b[0m\u001b[0mtranspose\u001b[0m\u001b[0;34m(\u001b[0m\u001b[0mL\u001b[0m\u001b[0;34m,\u001b[0m \u001b[0;36m1\u001b[0m\u001b[0;34m,\u001b[0m \u001b[0;36m2\u001b[0m\u001b[0;34m)\u001b[0m\u001b[0;34m)\u001b[0m\u001b[0;34m\u001b[0m\u001b[0;34m\u001b[0m\u001b[0m\n\u001b[0m\u001b[1;32m      9\u001b[0m     \u001b[0;31m#print(\"Shape of A {}\".format(A.shape))\u001b[0m\u001b[0;34m\u001b[0m\u001b[0;34m\u001b[0m\u001b[0;34m\u001b[0m\u001b[0m\n\u001b[1;32m     10\u001b[0m \u001b[0;34m\u001b[0m\u001b[0m\n",
      "\u001b[0;31mRuntimeError\u001b[0m: bmm does not support automatic differentiation for outputs with complex dtype."
     ]
    }
   ],
   "source": [
    "test_loop(n=10,m=10000)"
   ]
  },
  {
   "cell_type": "code",
   "execution_count": 30,
   "id": "potential-disposal",
   "metadata": {},
   "outputs": [
    {
     "name": "stdout",
     "output_type": "stream",
     "text": [
      "tensor([[[1.6802e+00, 0.0000e+00, 0.0000e+00],\n",
      "         [1.8233e-04, 1.7675e+00, 0.0000e+00],\n",
      "         [2.5422e-01, 2.4662e-01, 1.6762e+00]],\n",
      "\n",
      "        [[1.4924e+00, 0.0000e+00, 0.0000e+00],\n",
      "         [1.5261e-01, 1.5108e+00, 0.0000e+00],\n",
      "         [3.9220e-01, 7.1507e-01, 1.7660e+00]]], dtype=torch.float64,\n",
      "       grad_fn=<AddBackward0>)\n"
     ]
    },
    {
     "data": {
      "text/plain": [
       "tensor([[[1.6802e+00, 0.0000e+00, 0.0000e+00],\n",
       "         [1.8233e-04, 1.7675e+00, 0.0000e+00],\n",
       "         [2.5422e-01, 2.4662e-01, 1.6762e+00]],\n",
       "\n",
       "        [[1.4924e+00, 0.0000e+00, 0.0000e+00],\n",
       "         [1.5261e-01, 1.5108e+00, 0.0000e+00],\n",
       "         [3.9220e-01, 7.1507e-01, 1.7660e+00]]], dtype=torch.float64,\n",
       "       grad_fn=<CopySlices>)"
      ]
     },
     "execution_count": 30,
     "metadata": {},
     "output_type": "execute_result"
    }
   ],
   "source": [
    "n=3\n",
    "m=2\n",
    "nn = int(n*(n+1)/2)\n",
    "X = th.rand((m,nn))\n",
    "X\n",
    "L = th.add( bvech2L(X,m,n), th.eye(n) )\n",
    "print(L)\n",
    "A = th.matmul(L,th.transpose(L, 1, 2))\n",
    "A\n",
    "cholA = th.zeros_like(A)\n",
    "cholA\n",
    "for i in range(m):\n",
    "    cholA[i,:,:] = th.cholesky(A[i], upper=False)\n",
    "cholA"
   ]
  },
  {
   "cell_type": "code",
   "execution_count": 39,
   "id": "incorrect-function",
   "metadata": {},
   "outputs": [],
   "source": [
    "def test_batch(n=4,m=1000):\n",
    "\n",
    "    nn = int(n*(n+1)/2)\n",
    "\n",
    "    th.manual_seed(42)\n",
    "    X = th.rand((m,nn), device=device, dtype=dtype)\n",
    "    L = th.add(bvech2L(X,m,n), th.eye(n))\n",
    "    A = th.matmul(L,th.transpose(L, 1, 2))\n",
    "    #print(\"Shape of A {}\".format(A.shape))\n",
    "\n",
    "    start_time = time.time()\n",
    "\n",
    "    cholA = th.zeros_like(A)\n",
    "\n",
    "    cholA = bcholesky(A)\n",
    "\n",
    "    runtime = time.time() - start_time\n",
    "    print(\"batched version took {} seconds \".format(runtime))\n",
    "    return runtime\n"
   ]
  },
  {
   "cell_type": "code",
   "execution_count": 41,
   "id": "oriented-transcription",
   "metadata": {},
   "outputs": [
    {
     "name": "stdout",
     "output_type": "stream",
     "text": [
      "batched version took 0.05585980415344238 seconds \n"
     ]
    },
    {
     "data": {
      "text/plain": [
       "0.05585980415344238"
      ]
     },
     "execution_count": 41,
     "metadata": {},
     "output_type": "execute_result"
    }
   ],
   "source": [
    "test_batch(n=10,m=10000)"
   ]
  },
  {
   "cell_type": "code",
   "execution_count": null,
   "id": "closing-novel",
   "metadata": {},
   "outputs": [],
   "source": []
  }
 ],
 "metadata": {
  "kernelspec": {
   "display_name": "TF 2.4",
   "language": "python",
   "name": "tf24"
  },
  "language_info": {
   "codemirror_mode": {
    "name": "ipython",
    "version": 3
   },
   "file_extension": ".py",
   "mimetype": "text/x-python",
   "name": "python",
   "nbconvert_exporter": "python",
   "pygments_lexer": "ipython3",
   "version": "3.8.8"
  }
 },
 "nbformat": 4,
 "nbformat_minor": 5
}
