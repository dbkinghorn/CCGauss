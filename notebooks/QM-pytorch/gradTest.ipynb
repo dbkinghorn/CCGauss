{
 "cells": [
  {
   "cell_type": "code",
   "execution_count": 27,
   "metadata": {},
   "outputs": [],
   "source": [
    "import numpy as np\n",
    "from numpy.linalg import inv, det\n",
    "from numpy import trace, abs, sqrt, zeros, pi, diag\n",
    "\n",
    "import torch as th"
   ]
  },
  {
   "cell_type": "code",
   "execution_count": 23,
   "metadata": {},
   "outputs": [],
   "source": [
    "def vech(A):\n",
    "    count = 0\n",
    "    c = A.shape[0]\n",
    "    v = np.zeros(c * (c + 1) // 2,)\n",
    "    for j in range(c):\n",
    "        for i in range(j,c):\n",
    "            v[count] = A[i,j]\n",
    "            count += 1\n",
    "    return v\n",
    "\n",
    "def uvech(v,n):\n",
    "    count = 0\n",
    "    L = np.zeros((n,n))\n",
    "    for j in range(n):\n",
    "        for i in range(j,n):\n",
    "            L[i,j]=v[count]\n",
    "            count += 1\n",
    "    return L"
   ]
  },
  {
   "cell_type": "code",
   "execution_count": null,
   "metadata": {},
   "outputs": [],
   "source": []
  },
  {
   "cell_type": "code",
   "execution_count": null,
   "metadata": {},
   "outputs": [],
   "source": []
  },
  {
   "cell_type": "code",
   "execution_count": 24,
   "metadata": {},
   "outputs": [],
   "source": [
    "def py_matel(n, vechLk, vechLl, Sym):\n",
    "    \n",
    "    # initialize arrays\n",
    "    Lk=zeros((n,n));\n",
    "    Ll=zeros((n,n));\n",
    "    Ak=zeros((n,n));\n",
    "    Al=zeros((n,n));\n",
    "    Akl=zeros((n,n));\n",
    "    invAkl=zeros((n,n));\n",
    "    invAk=zeros((n,n));\n",
    "    invAl=zeros((n,n));\n",
    "    \n",
    "\n",
    "    Lk = uvech(vechLk,n);\n",
    "    Ll = uvech(vechLl,n);\n",
    "\n",
    "    \n",
    "    # apply symmetry projection on Ll\n",
    "    \n",
    "    PLl = Sym.T @ Ll;\n",
    "    \n",
    "    # build Ak, Al, Akl, invAkl, invAk, invAl\n",
    "\n",
    "    Ak = Lk@Lk.T;\n",
    "    Al = PLl@PLl.T;\n",
    "    Akl = Ak+Al;\n",
    "    \n",
    "    invAkl = inv(Akl);\n",
    "    invAk  = inv(Ak);\n",
    "    invAl  = inv(Al);\n",
    "    \n",
    "    # Overlap: (normalized)\n",
    "    skl = 2**(3*n/2) * sqrt( (abs(det(Lk))*abs(det(Ll))/det(Akl) )**3 );\n",
    "    \n",
    "    #gradient with respect to vechLk\n",
    "    dsk = vech( 3/2 * skl * (diag(1/diag(Lk)) - 2*invAkl@Lk) )\n",
    "    dsl = vech( 3/2 * skl * (diag(1/diag(Ll)) - 2*Sym@invAkl@PLl) )\n",
    "\n",
    "    \n",
    "    return {'skl':skl, 'dsk':dsk, 'dsl':dsl}\n"
   ]
  },
  {
   "cell_type": "code",
   "execution_count": 25,
   "metadata": {},
   "outputs": [],
   "source": [
    "def test_matel():\n",
    "    n = 3;\n",
    "    vechLk = np.array([  1.00000039208682, \n",
    "              0.02548044275764261, \n",
    "              0.3525161612610669,\n",
    "              1.6669144815242515,\n",
    "              0.9630555318946559,\n",
    "              1.8382882034659822 ]);\n",
    "    \n",
    "    vechLl = np.array([  1.3353550436464964,\n",
    "               0.9153272033682132,\n",
    "               0.7958636766525028,\n",
    "               1.8326931436447955,\n",
    "               0.3450426931160630,\n",
    "               1.8711839323167831 ]);\n",
    "    \n",
    "    Sym = np.array([[0,0,1],\n",
    "                    [0,1,0],\n",
    "                    [1,0,0]]);\n",
    "    \n",
    "    \n",
    "    matels = py_matel(n, vechLk, vechLl, Sym)\n",
    "    \n",
    "    print('skl: ',matels['skl'])\n",
    "    print('dsk: ',matels['dsk'])\n",
    "    print('dsl: ',matels['dsl'])\n",
    "    "
   ]
  },
  {
   "cell_type": "code",
   "execution_count": 26,
   "metadata": {},
   "outputs": [
    {
     "name": "stdout",
     "output_type": "stream",
     "text": [
      "skl:  0.5333557299037264\n",
      "dsk:  [ 0.48982708  0.07856709 -0.05598214  0.11792033 -0.11130223 -0.16323205]\n",
      "dsl:  [ 0.31975945 -0.06663576 -0.14954734 -0.07506522 -0.0351545  -0.19168515]\n"
     ]
    }
   ],
   "source": [
    "test_matel()"
   ]
  },
  {
   "cell_type": "code",
   "execution_count": null,
   "metadata": {},
   "outputs": [],
   "source": []
  }
 ],
 "metadata": {
  "kernelspec": {
   "display_name": "pt18",
   "language": "python",
   "name": "pt18"
  },
  "language_info": {
   "codemirror_mode": {
    "name": "ipython",
    "version": 3
   },
   "file_extension": ".py",
   "mimetype": "text/x-python",
   "name": "python",
   "nbconvert_exporter": "python",
   "pygments_lexer": "ipython3",
   "version": "3.8.5"
  }
 },
 "nbformat": 4,
 "nbformat_minor": 2
}
