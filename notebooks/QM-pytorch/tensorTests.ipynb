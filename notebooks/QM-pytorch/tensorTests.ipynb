{
 "cells": [
  {
   "cell_type": "code",
   "execution_count": 1,
   "metadata": {},
   "outputs": [],
   "source": [
    "import numpy as np\n",
    "import torch as th"
   ]
  },
  {
   "cell_type": "code",
   "execution_count": 2,
   "metadata": {},
   "outputs": [
    {
     "data": {
      "text/plain": [
       "tensor([[[1., 1.],\n",
       "         [1., 1.]],\n",
       "\n",
       "        [[1., 1.],\n",
       "         [1., 1.]],\n",
       "\n",
       "        [[1., 1.],\n",
       "         [1., 1.]],\n",
       "\n",
       "        [[1., 1.],\n",
       "         [1., 1.]]])"
      ]
     },
     "execution_count": 2,
     "metadata": {},
     "output_type": "execute_result"
    }
   ],
   "source": [
    "A = th.ones((4,2,2))\n",
    "A"
   ]
  },
  {
   "cell_type": "code",
   "execution_count": 3,
   "metadata": {},
   "outputs": [
    {
     "data": {
      "text/plain": [
       "tensor([[[0., 0.],\n",
       "         [0., 0.]],\n",
       "\n",
       "        [[1., 1.],\n",
       "         [1., 1.]],\n",
       "\n",
       "        [[2., 2.],\n",
       "         [2., 2.]],\n",
       "\n",
       "        [[3., 3.],\n",
       "         [3., 3.]]])"
      ]
     },
     "execution_count": 3,
     "metadata": {},
     "output_type": "execute_result"
    }
   ],
   "source": [
    "for i in range(4): A[i]=A[i]*i\n",
    "A"
   ]
  },
  {
   "cell_type": "code",
   "execution_count": 4,
   "metadata": {},
   "outputs": [
    {
     "data": {
      "text/plain": [
       "tensor([[[0., 0.],\n",
       "         [0., 0.]],\n",
       "\n",
       "        [[2., 2.],\n",
       "         [2., 2.]],\n",
       "\n",
       "        [[4., 4.],\n",
       "         [4., 4.]],\n",
       "\n",
       "        [[6., 6.],\n",
       "         [6., 6.]]])"
      ]
     },
     "execution_count": 4,
     "metadata": {},
     "output_type": "execute_result"
    }
   ],
   "source": [
    "A*2"
   ]
  },
  {
   "cell_type": "code",
   "execution_count": 5,
   "metadata": {},
   "outputs": [
    {
     "data": {
      "text/plain": [
       "tensor([[2., 2.],\n",
       "        [2., 2.]])"
      ]
     },
     "execution_count": 5,
     "metadata": {},
     "output_type": "execute_result"
    }
   ],
   "source": [
    "B = th.ones((2,2))*2\n",
    "B"
   ]
  },
  {
   "cell_type": "code",
   "execution_count": 6,
   "metadata": {},
   "outputs": [
    {
     "data": {
      "text/plain": [
       "tensor([[[ 0.,  0.],\n",
       "         [ 0.,  0.]],\n",
       "\n",
       "        [[ 4.,  4.],\n",
       "         [ 4.,  4.]],\n",
       "\n",
       "        [[ 8.,  8.],\n",
       "         [ 8.,  8.]],\n",
       "\n",
       "        [[12., 12.],\n",
       "         [12., 12.]]])"
      ]
     },
     "execution_count": 6,
     "metadata": {},
     "output_type": "execute_result"
    }
   ],
   "source": [
    "A@B"
   ]
  },
  {
   "cell_type": "code",
   "execution_count": 7,
   "metadata": {},
   "outputs": [
    {
     "data": {
      "text/plain": [
       "tensor([[[ 0.,  0.],\n",
       "         [ 0.,  0.]],\n",
       "\n",
       "        [[ 8.,  8.],\n",
       "         [ 8.,  8.]],\n",
       "\n",
       "        [[16., 16.],\n",
       "         [16., 16.]],\n",
       "\n",
       "        [[24., 24.],\n",
       "         [24., 24.]]])"
      ]
     },
     "execution_count": 7,
     "metadata": {},
     "output_type": "execute_result"
    }
   ],
   "source": [
    "B*A@B"
   ]
  },
  {
   "cell_type": "code",
   "execution_count": 8,
   "metadata": {},
   "outputs": [
    {
     "data": {
      "text/plain": [
       "tensor([[[[0., 0.],\n",
       "          [0., 0.]],\n",
       "\n",
       "         [[1., 1.],\n",
       "          [1., 1.]]],\n",
       "\n",
       "\n",
       "        [[[2., 2.],\n",
       "          [2., 2.]],\n",
       "\n",
       "         [[3., 3.],\n",
       "          [3., 3.]]]])"
      ]
     },
     "execution_count": 8,
     "metadata": {},
     "output_type": "execute_result"
    }
   ],
   "source": [
    "C = th.reshape(A,(2,2,2,2))\n",
    "C"
   ]
  },
  {
   "cell_type": "code",
   "execution_count": 9,
   "metadata": {},
   "outputs": [
    {
     "data": {
      "text/plain": [
       "tensor([[[[ 0.,  0.],\n",
       "          [ 0.,  0.]],\n",
       "\n",
       "         [[ 8.,  8.],\n",
       "          [ 8.,  8.]]],\n",
       "\n",
       "\n",
       "        [[[16., 16.],\n",
       "          [16., 16.]],\n",
       "\n",
       "         [[24., 24.],\n",
       "          [24., 24.]]]])"
      ]
     },
     "execution_count": 9,
     "metadata": {},
     "output_type": "execute_result"
    }
   ],
   "source": [
    "B*C@B"
   ]
  },
  {
   "cell_type": "code",
   "execution_count": 10,
   "metadata": {},
   "outputs": [
    {
     "data": {
      "text/plain": [
       "tensor([[[[ 0.,  0.],\n",
       "          [ 0.,  0.]],\n",
       "\n",
       "         [[ 2.,  2.],\n",
       "          [ 2.,  2.]]],\n",
       "\n",
       "\n",
       "        [[[ 8.,  8.],\n",
       "          [ 8.,  8.]],\n",
       "\n",
       "         [[18., 18.],\n",
       "          [18., 18.]]]])"
      ]
     },
     "execution_count": 10,
     "metadata": {},
     "output_type": "execute_result"
    }
   ],
   "source": [
    "C@C"
   ]
  },
  {
   "cell_type": "code",
   "execution_count": 11,
   "metadata": {},
   "outputs": [
    {
     "data": {
      "text/plain": [
       "tensor([[[ 0.,  0.],\n",
       "         [ 0.,  0.]],\n",
       "\n",
       "        [[ 2.,  2.],\n",
       "         [ 2.,  2.]],\n",
       "\n",
       "        [[ 8.,  8.],\n",
       "         [ 8.,  8.]],\n",
       "\n",
       "        [[18., 18.],\n",
       "         [18., 18.]]])"
      ]
     },
     "execution_count": 11,
     "metadata": {},
     "output_type": "execute_result"
    }
   ],
   "source": [
    "A@A"
   ]
  },
  {
   "cell_type": "code",
   "execution_count": 12,
   "metadata": {},
   "outputs": [
    {
     "data": {
      "text/plain": [
       "tensor([[[[0., 0.],\n",
       "          [0., 0.]],\n",
       "\n",
       "         [[1., 1.],\n",
       "          [1., 1.]]],\n",
       "\n",
       "\n",
       "        [[[2., 2.],\n",
       "          [2., 2.]],\n",
       "\n",
       "         [[3., 3.],\n",
       "          [3., 3.]]]])"
      ]
     },
     "execution_count": 12,
     "metadata": {},
     "output_type": "execute_result"
    }
   ],
   "source": [
    "C"
   ]
  },
  {
   "cell_type": "code",
   "execution_count": 13,
   "metadata": {},
   "outputs": [
    {
     "data": {
      "text/plain": [
       "tensor([[0., 2.],\n",
       "        [4., 6.]])"
      ]
     },
     "execution_count": 13,
     "metadata": {},
     "output_type": "execute_result"
    }
   ],
   "source": [
    "th.sum(th.diagonal(C, dim1=-2, dim2=-1), dim=-1, keepdim=False)"
   ]
  },
  {
   "cell_type": "code",
   "execution_count": 14,
   "metadata": {},
   "outputs": [],
   "source": [
    "B = th.rand((4,2,2))"
   ]
  },
  {
   "cell_type": "code",
   "execution_count": 15,
   "metadata": {},
   "outputs": [
    {
     "data": {
      "text/plain": [
       "torch.Size([4, 2, 2])"
      ]
     },
     "execution_count": 15,
     "metadata": {},
     "output_type": "execute_result"
    }
   ],
   "source": [
    "B.shape"
   ]
  },
  {
   "cell_type": "code",
   "execution_count": 16,
   "metadata": {},
   "outputs": [
    {
     "data": {
      "text/plain": [
       "tensor([[0., 2.],\n",
       "        [4., 6.]])"
      ]
     },
     "execution_count": 16,
     "metadata": {},
     "output_type": "execute_result"
    }
   ],
   "source": [
    "th.sum(th.diagonal(C, dim1=-2, dim2=-1), dim=-1, keepdim=False)"
   ]
  },
  {
   "cell_type": "code",
   "execution_count": 17,
   "metadata": {},
   "outputs": [
    {
     "data": {
      "text/plain": [
       "tensor(0.6071)"
      ]
     },
     "execution_count": 17,
     "metadata": {},
     "output_type": "execute_result"
    }
   ],
   "source": [
    "th.trace(B[1])"
   ]
  },
  {
   "cell_type": "code",
   "execution_count": 18,
   "metadata": {},
   "outputs": [
    {
     "data": {
      "text/plain": [
       "tensor([[[[0., 0.],\n",
       "          [0., 0.]],\n",
       "\n",
       "         [[1., 1.],\n",
       "          [1., 1.]]],\n",
       "\n",
       "\n",
       "        [[[2., 2.],\n",
       "          [2., 2.]],\n",
       "\n",
       "         [[3., 3.],\n",
       "          [3., 3.]]]])"
      ]
     },
     "execution_count": 18,
     "metadata": {},
     "output_type": "execute_result"
    }
   ],
   "source": [
    "C"
   ]
  },
  {
   "cell_type": "code",
   "execution_count": 19,
   "metadata": {},
   "outputs": [
    {
     "data": {
      "text/plain": [
       "tensor([[ 0.,  4.],\n",
       "        [ 8., 12.]])"
      ]
     },
     "execution_count": 19,
     "metadata": {},
     "output_type": "execute_result"
    }
   ],
   "source": [
    "th.sum(C, dim=(-2,-1))"
   ]
  },
  {
   "cell_type": "code",
   "execution_count": 20,
   "metadata": {},
   "outputs": [],
   "source": [
    "AK = th.rand((2,2,2))\n",
    "AL = th.rand((2,2,2))"
   ]
  },
  {
   "cell_type": "code",
   "execution_count": 21,
   "metadata": {},
   "outputs": [
    {
     "data": {
      "text/plain": [
       "tensor([[[[0.0000, 0.0000],\n",
       "          [0.0000, 0.0000]],\n",
       "\n",
       "         [[1.0792, 1.0309],\n",
       "          [1.1460, 1.0947]]],\n",
       "\n",
       "\n",
       "        [[[2.2773, 2.8771],\n",
       "          [3.1573, 3.9890]],\n",
       "\n",
       "         [[3.2377, 3.0927],\n",
       "          [3.4381, 3.2842]]]])"
      ]
     },
     "execution_count": 21,
     "metadata": {},
     "output_type": "execute_result"
    }
   ],
   "source": [
    "th.matmul(AK,th.matmul(C,AL))"
   ]
  },
  {
   "cell_type": "code",
   "execution_count": 22,
   "metadata": {},
   "outputs": [
    {
     "data": {
      "text/plain": [
       "tensor([[3.2377, 3.0927],\n",
       "        [3.4381, 3.2842]])"
      ]
     },
     "execution_count": 22,
     "metadata": {},
     "output_type": "execute_result"
    }
   ],
   "source": [
    "AK[1]@C[1,1]@AL[1]"
   ]
  },
  {
   "cell_type": "code",
   "execution_count": 23,
   "metadata": {},
   "outputs": [],
   "source": [
    "Out = th.zeros_like(C)\n",
    "for i in range(2):\n",
    "    for j in range(2):\n",
    "        Out[i,j] = (AK[i]@C[i,j]@AL[j])"
   ]
  },
  {
   "cell_type": "code",
   "execution_count": 24,
   "metadata": {
    "scrolled": true
   },
   "outputs": [
    {
     "data": {
      "text/plain": [
       "tensor([[[[0.0000, 0.0000],\n",
       "          [0.0000, 0.0000]],\n",
       "\n",
       "         [[1.0180, 0.9725],\n",
       "          [1.4115, 1.3483]]],\n",
       "\n",
       "\n",
       "        [[[2.4141, 3.0500],\n",
       "          [2.5636, 3.2389]],\n",
       "\n",
       "         [[3.2377, 3.0927],\n",
       "          [3.4381, 3.2842]]]])"
      ]
     },
     "execution_count": 24,
     "metadata": {},
     "output_type": "execute_result"
    }
   ],
   "source": [
    "Out"
   ]
  },
  {
   "cell_type": "code",
   "execution_count": 25,
   "metadata": {},
   "outputs": [
    {
     "data": {
      "text/plain": [
       "tensor([0., 1., 4., 9.])"
      ]
     },
     "execution_count": 25,
     "metadata": {},
     "output_type": "execute_result"
    }
   ],
   "source": [
    "th.prod(th.diagonal(th.reshape(A, (2*2,2,2)), offset=0, dim1=-1, dim2=-2),-1)"
   ]
  },
  {
   "cell_type": "code",
   "execution_count": 26,
   "metadata": {},
   "outputs": [
    {
     "data": {
      "text/plain": [
       "tensor([[[0., 0.],\n",
       "         [0., 0.]],\n",
       "\n",
       "        [[1., 1.],\n",
       "         [1., 1.]],\n",
       "\n",
       "        [[2., 2.],\n",
       "         [2., 2.]],\n",
       "\n",
       "        [[3., 3.],\n",
       "         [3., 3.]]])"
      ]
     },
     "execution_count": 26,
     "metadata": {},
     "output_type": "execute_result"
    }
   ],
   "source": [
    "A"
   ]
  },
  {
   "cell_type": "code",
   "execution_count": 27,
   "metadata": {},
   "outputs": [
    {
     "data": {
      "text/plain": [
       "torch.Size([4, 2, 2])"
      ]
     },
     "execution_count": 27,
     "metadata": {},
     "output_type": "execute_result"
    }
   ],
   "source": [
    "A.shape"
   ]
  },
  {
   "cell_type": "code",
   "execution_count": 28,
   "metadata": {},
   "outputs": [
    {
     "data": {
      "text/plain": [
       "torch.Size([2, 2, 2, 2])"
      ]
     },
     "execution_count": 28,
     "metadata": {},
     "output_type": "execute_result"
    }
   ],
   "source": [
    "C.shape"
   ]
  },
  {
   "cell_type": "code",
   "execution_count": 29,
   "metadata": {},
   "outputs": [
    {
     "data": {
      "text/plain": [
       "tensor([[[1., 1.],\n",
       "         [1., 1.]],\n",
       "\n",
       "        [[2., 2.],\n",
       "         [2., 2.]],\n",
       "\n",
       "        [[3., 3.],\n",
       "         [3., 3.]]])"
      ]
     },
     "execution_count": 29,
     "metadata": {},
     "output_type": "execute_result"
    }
   ],
   "source": [
    "AK = th.ones((3,2,2))\n",
    "AK[1] = AK[1]*2\n",
    "AK[2] = AK[2]*3\n",
    "AK"
   ]
  },
  {
   "cell_type": "code",
   "execution_count": 30,
   "metadata": {},
   "outputs": [
    {
     "data": {
      "text/plain": [
       "tensor([[[4., 4.],\n",
       "         [4., 4.]],\n",
       "\n",
       "        [[5., 5.],\n",
       "         [5., 5.]],\n",
       "\n",
       "        [[6., 6.],\n",
       "         [6., 6.]]])"
      ]
     },
     "execution_count": 30,
     "metadata": {},
     "output_type": "execute_result"
    }
   ],
   "source": [
    "AL = th.ones((3,2,2))*4\n",
    "AL[1] = AL[1]+1\n",
    "AL[2] = AL[2]+2\n",
    "AL"
   ]
  },
  {
   "cell_type": "code",
   "execution_count": 31,
   "metadata": {},
   "outputs": [
    {
     "data": {
      "text/plain": [
       "tensor([[[[0.3815, 0.8478],\n",
       "          [0.9347, 1.3274]],\n",
       "\n",
       "         [[0.6822, 0.9582],\n",
       "          [1.0125, 0.8016]],\n",
       "\n",
       "         [[0.7748, 0.9572],\n",
       "          [0.4323, 0.9876]]],\n",
       "\n",
       "\n",
       "        [[[0.4173, 0.1317],\n",
       "          [1.5672, 1.5372]],\n",
       "\n",
       "         [[0.7180, 0.2421],\n",
       "          [1.6450, 1.0114]],\n",
       "\n",
       "         [[0.8106, 0.2410],\n",
       "          [1.0648, 1.1974]]],\n",
       "\n",
       "\n",
       "        [[[0.3917, 0.1685],\n",
       "          [0.8993, 0.8819]],\n",
       "\n",
       "         [[0.6924, 0.2789],\n",
       "          [0.9770, 0.3561]],\n",
       "\n",
       "         [[0.7849, 0.2779],\n",
       "          [0.3969, 0.5421]]]])"
      ]
     },
     "execution_count": 31,
     "metadata": {},
     "output_type": "execute_result"
    }
   ],
   "source": [
    "AK = th.rand((3,2,2))\n",
    "AL = th.rand((3,2,2))\n",
    "nb = AK.shape[0]\n",
    "AKL = th.zeros((nb,nb,2,2))\n",
    "for i in range(nb):\n",
    "    for j in range(nb):\n",
    "        AKL[i,j] =  AK[i] + AL[j]\n",
    "AKL"
   ]
  },
  {
   "cell_type": "code",
   "execution_count": 32,
   "metadata": {},
   "outputs": [],
   "source": [
    "U = AL.repeat((3,1,1,1)) + th.transpose(AK.repeat((3,1,1,1)), 0,1)"
   ]
  },
  {
   "cell_type": "code",
   "execution_count": 33,
   "metadata": {},
   "outputs": [
    {
     "data": {
      "text/plain": [
       "tensor([[[[1, 1],\n",
       "          [1, 1]],\n",
       "\n",
       "         [[1, 1],\n",
       "          [1, 1]],\n",
       "\n",
       "         [[1, 1],\n",
       "          [1, 1]]],\n",
       "\n",
       "\n",
       "        [[[1, 1],\n",
       "          [1, 1]],\n",
       "\n",
       "         [[1, 1],\n",
       "          [1, 1]],\n",
       "\n",
       "         [[1, 1],\n",
       "          [1, 1]]],\n",
       "\n",
       "\n",
       "        [[[1, 1],\n",
       "          [1, 1]],\n",
       "\n",
       "         [[1, 1],\n",
       "          [1, 1]],\n",
       "\n",
       "         [[1, 1],\n",
       "          [1, 1]]]], dtype=torch.uint8)"
      ]
     },
     "execution_count": 33,
     "metadata": {},
     "output_type": "execute_result"
    }
   ],
   "source": [
    "AKL == U"
   ]
  },
  {
   "cell_type": "code",
   "execution_count": 34,
   "metadata": {},
   "outputs": [],
   "source": [
    "invAKL = th.rand_like(AKL)\n",
    "invAKL = th.matmul(th.transpose(invAKL, dim0=-1, dim1=-2),invAKL)"
   ]
  },
  {
   "cell_type": "code",
   "execution_count": 35,
   "metadata": {},
   "outputs": [],
   "source": [
    "Tmat = th.zeros_like(invAKL)\n",
    "for i in range(nb):\n",
    "    for j in range(nb):\n",
    "        Tmat[i,j] = (AK[i]@invAKL[i,j]@AL[j])"
   ]
  },
  {
   "cell_type": "code",
   "execution_count": 36,
   "metadata": {},
   "outputs": [],
   "source": [
    "Umat =Tmat"
   ]
  },
  {
   "cell_type": "code",
   "execution_count": 37,
   "metadata": {},
   "outputs": [
    {
     "data": {
      "text/plain": [
       "tensor([[[[0.0414, 0.0987],\n",
       "          [0.2208, 0.3950]],\n",
       "\n",
       "         [[0.1730, 0.2290],\n",
       "          [0.1005, 0.1413]],\n",
       "\n",
       "         [[0.1237, 0.2312],\n",
       "          [0.0643, 0.3355]]],\n",
       "\n",
       "\n",
       "        [[[0.0182, 0.0240],\n",
       "          [0.4386, 0.7607]],\n",
       "\n",
       "         [[0.2394, 0.0638],\n",
       "          [0.1418, 0.0671]],\n",
       "\n",
       "         [[0.3273, 0.0584],\n",
       "          [0.1378, 0.0866]]],\n",
       "\n",
       "\n",
       "        [[[0.0380, 0.0117],\n",
       "          [0.1432, 0.1704]],\n",
       "\n",
       "         [[0.0721, 0.0575],\n",
       "          [0.1415, 0.1128]],\n",
       "\n",
       "         [[0.0846, 0.0292],\n",
       "          [0.0423, 0.0457]]]])"
      ]
     },
     "execution_count": 37,
     "metadata": {},
     "output_type": "execute_result"
    }
   ],
   "source": [
    "Z = AL.repeat((3,1,1,1)) @ th.transpose(AK.repeat((3,1,1,1)), 0,1)\n",
    "Z*invAKL"
   ]
  },
  {
   "cell_type": "code",
   "execution_count": 38,
   "metadata": {},
   "outputs": [
    {
     "data": {
      "text/plain": [
       "tensor([[[[0.3964, 0.3698],\n",
       "          [0.3858, 0.3595]],\n",
       "\n",
       "         [[0.4828, 0.1494],\n",
       "          [0.5206, 0.1611]],\n",
       "\n",
       "         [[0.3714, 0.4523],\n",
       "          [0.3595, 0.3832]]],\n",
       "\n",
       "\n",
       "        [[[0.1578, 0.1757],\n",
       "          [0.9730, 1.0836]],\n",
       "\n",
       "         [[0.2053, 0.0635],\n",
       "          [0.9914, 0.3067]],\n",
       "\n",
       "         [[0.1886, 0.0881],\n",
       "          [0.8546, 0.4214]]],\n",
       "\n",
       "\n",
       "        [[[0.1622, 0.1603],\n",
       "          [0.2063, 0.2011]],\n",
       "\n",
       "         [[0.2748, 0.0850],\n",
       "          [0.3525, 0.1090]],\n",
       "\n",
       "         [[0.0987, 0.0809],\n",
       "          [0.1307, 0.1031]]]])"
      ]
     },
     "execution_count": 38,
     "metadata": {},
     "output_type": "execute_result"
    }
   ],
   "source": [
    "Tmat"
   ]
  },
  {
   "cell_type": "code",
   "execution_count": 39,
   "metadata": {},
   "outputs": [],
   "source": [
    "#or i in range(nb):\n",
    "#   #or j in range(nb):\n",
    "#   Umat[i] =th.matmul(AK[i], th.matmul(invAKL,AL))"
   ]
  },
  {
   "cell_type": "code",
   "execution_count": 40,
   "metadata": {},
   "outputs": [],
   "source": [
    "Bmat=th.matmul(invAKL,AL)"
   ]
  },
  {
   "cell_type": "code",
   "execution_count": 41,
   "metadata": {},
   "outputs": [
    {
     "data": {
      "text/plain": [
       "tensor([[[[0.3964, 0.3698],\n",
       "          [0.3858, 0.3595]],\n",
       "\n",
       "         [[0.4828, 0.1494],\n",
       "          [0.5206, 0.1611]],\n",
       "\n",
       "         [[0.3714, 0.4523],\n",
       "          [0.3595, 0.3832]]],\n",
       "\n",
       "\n",
       "        [[[0.1578, 0.1757],\n",
       "          [0.9730, 1.0836]],\n",
       "\n",
       "         [[0.2053, 0.0635],\n",
       "          [0.9914, 0.3067]],\n",
       "\n",
       "         [[0.1886, 0.0881],\n",
       "          [0.8546, 0.4214]]],\n",
       "\n",
       "\n",
       "        [[[0.1622, 0.1603],\n",
       "          [0.2063, 0.2011]],\n",
       "\n",
       "         [[0.2748, 0.0850],\n",
       "          [0.3525, 0.1090]],\n",
       "\n",
       "         [[0.0987, 0.0809],\n",
       "          [0.1307, 0.1031]]]])"
      ]
     },
     "execution_count": 41,
     "metadata": {},
     "output_type": "execute_result"
    }
   ],
   "source": [
    "th.matmul(th.transpose(AK.repeat((3,1,1,1)), 0,1), th.matmul(invAKL,AL))"
   ]
  },
  {
   "cell_type": "code",
   "execution_count": 42,
   "metadata": {},
   "outputs": [
    {
     "data": {
      "text/plain": [
       "tensor([[[[0.3964, 0.3698],\n",
       "          [0.3858, 0.3595]],\n",
       "\n",
       "         [[0.4828, 0.1494],\n",
       "          [0.5206, 0.1611]],\n",
       "\n",
       "         [[0.3714, 0.4523],\n",
       "          [0.3595, 0.3832]]],\n",
       "\n",
       "\n",
       "        [[[0.1578, 0.1757],\n",
       "          [0.9730, 1.0836]],\n",
       "\n",
       "         [[0.2053, 0.0635],\n",
       "          [0.9914, 0.3067]],\n",
       "\n",
       "         [[0.1886, 0.0881],\n",
       "          [0.8546, 0.4214]]],\n",
       "\n",
       "\n",
       "        [[[0.1622, 0.1603],\n",
       "          [0.2063, 0.2011]],\n",
       "\n",
       "         [[0.2748, 0.0850],\n",
       "          [0.3525, 0.1090]],\n",
       "\n",
       "         [[0.0987, 0.0809],\n",
       "          [0.1307, 0.1031]]]])"
      ]
     },
     "execution_count": 42,
     "metadata": {},
     "output_type": "execute_result"
    }
   ],
   "source": [
    "Tmat"
   ]
  },
  {
   "cell_type": "code",
   "execution_count": 43,
   "metadata": {},
   "outputs": [
    {
     "data": {
      "text/plain": [
       "torch.Size([3, 3, 2, 2])"
      ]
     },
     "execution_count": 43,
     "metadata": {},
     "output_type": "execute_result"
    }
   ],
   "source": [
    "Bmat.shape"
   ]
  },
  {
   "cell_type": "code",
   "execution_count": 44,
   "metadata": {},
   "outputs": [
    {
     "data": {
      "text/plain": [
       "tensor([[[[1, 1],\n",
       "          [1, 1]],\n",
       "\n",
       "         [[1, 1],\n",
       "          [1, 1]],\n",
       "\n",
       "         [[1, 1],\n",
       "          [1, 1]]],\n",
       "\n",
       "\n",
       "        [[[1, 1],\n",
       "          [1, 1]],\n",
       "\n",
       "         [[1, 1],\n",
       "          [1, 1]],\n",
       "\n",
       "         [[1, 1],\n",
       "          [1, 1]]],\n",
       "\n",
       "\n",
       "        [[[1, 1],\n",
       "          [1, 1]],\n",
       "\n",
       "         [[1, 1],\n",
       "          [1, 1]],\n",
       "\n",
       "         [[1, 1],\n",
       "          [1, 1]]]], dtype=torch.uint8)"
      ]
     },
     "execution_count": 44,
     "metadata": {},
     "output_type": "execute_result"
    }
   ],
   "source": [
    "Umat==Tmat"
   ]
  },
  {
   "cell_type": "code",
   "execution_count": 45,
   "metadata": {},
   "outputs": [
    {
     "data": {
      "text/plain": [
       "tensor([[[[0.3964, 0.3698],\n",
       "          [0.3858, 0.3595]],\n",
       "\n",
       "         [[0.4828, 0.1494],\n",
       "          [0.5206, 0.1611]],\n",
       "\n",
       "         [[0.3714, 0.4523],\n",
       "          [0.3595, 0.3832]]],\n",
       "\n",
       "\n",
       "        [[[0.1578, 0.1757],\n",
       "          [0.9730, 1.0836]],\n",
       "\n",
       "         [[0.2053, 0.0635],\n",
       "          [0.9914, 0.3067]],\n",
       "\n",
       "         [[0.1886, 0.0881],\n",
       "          [0.8546, 0.4214]]],\n",
       "\n",
       "\n",
       "        [[[0.1622, 0.1603],\n",
       "          [0.2063, 0.2011]],\n",
       "\n",
       "         [[0.2748, 0.0850],\n",
       "          [0.3525, 0.1090]],\n",
       "\n",
       "         [[0.0987, 0.0809],\n",
       "          [0.1307, 0.1031]]]])"
      ]
     },
     "execution_count": 45,
     "metadata": {},
     "output_type": "execute_result"
    }
   ],
   "source": [
    "Umat"
   ]
  },
  {
   "cell_type": "code",
   "execution_count": 46,
   "metadata": {},
   "outputs": [
    {
     "data": {
      "text/plain": [
       "torch.Size([4, 2, 2])"
      ]
     },
     "execution_count": 46,
     "metadata": {},
     "output_type": "execute_result"
    }
   ],
   "source": [
    "A.shape"
   ]
  },
  {
   "cell_type": "code",
   "execution_count": 49,
   "metadata": {},
   "outputs": [
    {
     "data": {
      "text/plain": [
       "tensor([[-0.3638, -0.1201,  0.3904, -1.4934, -0.8096, -0.1392, -0.3428,  0.0456,  0.3476, -0.4315],\n",
       "        [ 0.4068,  1.5212, -0.8504,  1.3791,  1.2256, -0.4538,  0.3660,  1.1759, -0.0253, -2.6509],\n",
       "        [-0.3425,  0.4832, -0.1496,  1.3972,  0.7561,  1.2968,  0.3178,  1.2540,  0.3873,  1.0936],\n",
       "        [-0.9202,  0.9885, -0.8722,  0.4117, -2.3096,  1.7204,  1.1650,  2.1419, -0.9111,  1.4020],\n",
       "        [-0.8174, -1.8717, -1.3193,  0.5695,  0.7235,  0.4342, -0.4693, -0.1535,  0.2475, -1.1776],\n",
       "        [-0.7913, -0.7075, -0.3443, -1.1532,  1.9757,  0.4977,  0.9649, -0.6405, -0.1854,  1.1997],\n",
       "        [ 0.1188, -1.8054,  2.9271, -1.8209, -0.6896,  0.3508, -0.0597,  1.3657, -1.1877,  0.2918],\n",
       "        [ 0.0395,  0.1639,  0.7788, -1.0374, -1.5233,  0.2798, -1.2222, -1.5146, -0.8351,  1.3840],\n",
       "        [ 0.7851,  0.5199,  1.0050, -0.5020, -0.7747, -0.6284,  0.2575,  0.4014,  1.5295,  0.4689],\n",
       "        [-0.5465,  0.0849, -0.6653,  0.9266,  0.0464, -0.2550,  0.0146,  0.2913,  0.0301, -0.0350]])"
      ]
     },
     "execution_count": 49,
     "metadata": {},
     "output_type": "execute_result"
    }
   ],
   "source": [
    "th.set_printoptions(linewidth=120)\n",
    "H = th.randn((10,10))\n",
    "H"
   ]
  },
  {
   "cell_type": "code",
   "execution_count": 54,
   "metadata": {},
   "outputs": [
    {
     "data": {
      "text/plain": [
       "tensor([[-0.3638, -0.1201,  0.3904, -1.4934, -0.8096, -0.1392, -0.3428,  0.0456,  0.3476, -0.4315],\n",
       "        [-0.1201,  1.5212, -0.8504,  1.3791,  1.2256, -0.4538,  0.3660,  1.1759, -0.0253, -2.6509],\n",
       "        [ 0.3904, -0.8504, -0.1496,  1.3972,  0.7561,  1.2968,  0.3178,  1.2540,  0.3873,  1.0936],\n",
       "        [-1.4934,  1.3791,  1.3972,  0.4117, -2.3096,  1.7204,  1.1650,  2.1419, -0.9111,  1.4020],\n",
       "        [-0.8096,  1.2256,  0.7561, -2.3096,  0.7235,  0.4342, -0.4693, -0.1535,  0.2475, -1.1776],\n",
       "        [-0.1392, -0.4538,  1.2968,  1.7204,  0.4342,  0.4977,  0.9649, -0.6405, -0.1854,  1.1997],\n",
       "        [-0.3428,  0.3660,  0.3178,  1.1650, -0.4693,  0.9649, -0.0597,  1.3657, -1.1877,  0.2918],\n",
       "        [ 0.0456,  1.1759,  1.2540,  2.1419, -0.1535, -0.6405,  1.3657, -1.5146, -0.8351,  1.3840],\n",
       "        [ 0.3476, -0.0253,  0.3873, -0.9111,  0.2475, -0.1854, -1.1877, -0.8351,  1.5295,  0.4689],\n",
       "        [-0.4315, -2.6509,  1.0936,  1.4020, -1.1776,  1.1997,  0.2918,  1.3840,  0.4689, -0.0350]])"
      ]
     },
     "execution_count": 54,
     "metadata": {},
     "output_type": "execute_result"
    }
   ],
   "source": [
    "th.triu(H,1)+th.t(th.triu(H))"
   ]
  },
  {
   "cell_type": "code",
   "execution_count": null,
   "metadata": {},
   "outputs": [],
   "source": []
  }
 ],
 "metadata": {
  "kernelspec": {
   "display_name": "pt18",
   "language": "python",
   "name": "pt18"
  },
  "language_info": {
   "codemirror_mode": {
    "name": "ipython",
    "version": 3
   },
   "file_extension": ".py",
   "mimetype": "text/x-python",
   "name": "python",
   "nbconvert_exporter": "python",
   "pygments_lexer": "ipython3",
   "version": "3.8.5"
  }
 },
 "nbformat": 4,
 "nbformat_minor": 2
}
