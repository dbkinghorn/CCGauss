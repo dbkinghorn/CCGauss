{
 "cells": [
  {
   "cell_type": "code",
   "execution_count": 3,
   "id": "marked-playing",
   "metadata": {},
   "outputs": [],
   "source": [
    "import numpy as np\n",
    "from numpy.linalg import inv, det\n",
    "from numpy import trace, abs, sqrt, zeros, pi\n"
   ]
  },
  {
   "cell_type": "code",
   "execution_count": 49,
   "id": "incident-preserve",
   "metadata": {},
   "outputs": [],
   "source": [
    "def py_matel(n, vechLk, vechLl, Sym, Mass, vecQ):\n",
    "    \n",
    "    # initialize arrays\n",
    "    Lk=zeros((n,n));\n",
    "    Ll=zeros((n,n));\n",
    "    Ak=zeros((n,n));\n",
    "    Al=zeros((n,n));\n",
    "    Akl=zeros((n,n));\n",
    "    invAkl=zeros((n,n));\n",
    "    invAk=zeros((n,n));\n",
    "    invAl=zeros((n,n));\n",
    "    \n",
    "    # build Lk and Ll\n",
    "\n",
    "    #count=0;\n",
    "    #for j=1:n\n",
    "    #  for i=j:n\n",
    "    #    count=count+1;\n",
    "    #    Lk(i,j) = vechLk(count);\n",
    "    #    Ll(i,j) = vechLl(count);\n",
    "    #  end\n",
    "    #end\n",
    "    \n",
    "    idxu = np.triu_indices(n);\n",
    "    Lk[idxu] = vechLk;\n",
    "    Ll[idxu] = vechLl;\n",
    "    Lk=Lk.T\n",
    "    Ll=Ll.T\n",
    "    \n",
    "    # apply symmetry projection on Ll\n",
    "    \n",
    "    Ll = Sym.T @ Ll;\n",
    "    #Lk = Sym.T@Lk# @ Sym ;\n",
    "    \n",
    "    # build Ak, Al, Akl, invAkl, invAk, invAl\n",
    "\n",
    "    Ak = Lk@Lk.T;\n",
    "    Al = Ll@Ll.T;\n",
    "    \n",
    "    #Ak = (Sym.T@Ak@Sym)\n",
    "    #Al = (Sym.T@Al@Sym)\n",
    "    Akl = Ak+Al;\n",
    "    \n",
    "    print(det(Akl))\n",
    "    \n",
    "    invAkl = inv(Akl);\n",
    "    invAk  = inv(Ak);\n",
    "    invAl  = inv(Al);\n",
    "    \n",
    "    # Overlap: (normalized)\n",
    "    skl = 2**(3*n/2) * sqrt( (abs(det(Lk))*abs(det(Ll))/det(Akl) )**3 );\n",
    "\n",
    "    # kinetic energy\n",
    "\n",
    "    tkl = skl*(6*trace(Mass@Ak@invAkl@Al));\n",
    "    \n",
    "    # potential energy\n",
    "    \n",
    "    RIJ = zeros((n,n));\n",
    "    # 1/rij i~=j\n",
    "    for j in range(0,n-1):\n",
    "        for i in range(j+1,n):\n",
    "            tmp2 = invAkl[i,i] + invAkl[j,j] - 2*invAkl[i,j];\n",
    "            RIJ[i,j] = 2/sqrt(pi) * skl/sqrt(tmp2);\n",
    "\n",
    "\n",
    "    # 1/rij i=j\n",
    "    for i in range(0,n):\n",
    "        RIJ[i,i] = 2/sqrt(pi) * skl/sqrt(invAkl[i,i]);\n",
    "    \n",
    "    Q =zeros((n,n))\n",
    "    Q[idxu] = vecQ;\n",
    "    Q=Q.T\n",
    "    vkl = np.sum(RIJ*Q)\n",
    "\n",
    "    hkl = tkl + vkl\n",
    "    \n",
    "    return {'skl':skl, 'tkl':tkl, 'vkl':vkl, 'hkl':hkl}"
   ]
  },
  {
   "cell_type": "code",
   "execution_count": 50,
   "id": "south-edward",
   "metadata": {},
   "outputs": [],
   "source": [
    "def test_matel():\n",
    "    n = 3;\n",
    "    vechLk = np.array([  1.00000039208682, \n",
    "              0.02548044275764261, \n",
    "              0.3525161612610669,\n",
    "              1.6669144815242515,\n",
    "              0.9630555318946559,\n",
    "              1.8382882034659822 ]);\n",
    "    \n",
    "    vechLl = np.array([  1.3353550436464964,\n",
    "               0.9153272033682132,\n",
    "               0.7958636766525028,\n",
    "               1.8326931436447955,\n",
    "               0.3450426931160630,\n",
    "               1.8711839323167831 ]);\n",
    "    \n",
    "    Sym = np.array([[0,0,1],\n",
    "                    [0,1,0],\n",
    "                    [1,0,0]]);\n",
    "    \n",
    "    Mass = np.array([[5.446170e-4, 2.723085077e-4, 2.723085077e-4],\n",
    "                     [2.723085077e-4, .5002723085, 2.723085077e-4],\n",
    "                     [2.723085077e-4, 2.723085077e-4, .5002723085 ]]);\n",
    "    \n",
    "    vecQ = [1, -1, -1, -1, 1, -1];\n",
    "    \n",
    "    matels = py_matel(n, vechLk, vechLl, Sym, Mass, vecQ)\n",
    "    \n",
    "    print('skl: ',matels['skl'])\n",
    "    print('tkl: ',matels['tkl'])\n",
    "    print('vkl: ',matels['vkl'])\n",
    "    print('hkl: ',matels['hkl'])\n",
    "    "
   ]
  },
  {
   "cell_type": "code",
   "execution_count": 4,
   "id": "german-export",
   "metadata": {},
   "outputs": [
    {
     "name": "stdout",
     "output_type": "stream",
     "text": [
      "skl:  0.5333557299037264\n",
      "tkl:  4.3509068790883045\n",
      "vkl:  -2.3839605567755693\n",
      "hkl:  1.9669463223127353\n"
     ]
    }
   ],
   "source": [
    "test_matel()"
   ]
  },
  {
   "cell_type": "code",
   "execution_count": 22,
   "id": "expanded-cornell",
   "metadata": {},
   "outputs": [
    {
     "name": "stdout",
     "output_type": "stream",
     "text": [
      "170.69026506899922\n",
      "skl:  0.5333557299037264\n",
      "tkl:  4.3509068790883045\n",
      "vkl:  -2.3839605567755693\n",
      "hkl:  1.9669463223127353\n"
     ]
    }
   ],
   "source": [
    "test_matel()"
   ]
  },
  {
   "cell_type": "code",
   "execution_count": 51,
   "id": "ignored-broadcast",
   "metadata": {},
   "outputs": [
    {
     "name": "stdout",
     "output_type": "stream",
     "text": [
      "170.69026506899922\n",
      "skl:  0.5333557299037264\n",
      "tkl:  4.3509068790883045\n",
      "vkl:  -2.3839605567755693\n",
      "hkl:  1.9669463223127353\n"
     ]
    }
   ],
   "source": [
    "test_matel()"
   ]
  },
  {
   "cell_type": "code",
   "execution_count": 52,
   "id": "stone-court",
   "metadata": {},
   "outputs": [
    {
     "name": "stdout",
     "output_type": "stream",
     "text": [
      "[[1 0 0]\n",
      " [0 1 0]\n",
      " [0 0 1]]\n",
      "[[1 0 0]\n",
      " [0 1 0]\n",
      " [0 0 1]]\n",
      "-1.0\n"
     ]
    }
   ],
   "source": [
    "Sym = np.array([[0,0,1],\n",
    "                [0,1,0],\n",
    "                [1,0,0]]);\n",
    "print(Sym@Sym)\n",
    "print(Sym.T@Sym)\n",
    "print(det(Sym))"
   ]
  },
  {
   "cell_type": "code",
   "execution_count": null,
   "id": "insured-phrase",
   "metadata": {},
   "outputs": [],
   "source": []
  },
  {
   "cell_type": "code",
   "execution_count": null,
   "id": "lovely-emission",
   "metadata": {},
   "outputs": [],
   "source": []
  },
  {
   "cell_type": "code",
   "execution_count": null,
   "id": "demanding-liabilities",
   "metadata": {},
   "outputs": [],
   "source": []
  }
 ],
 "metadata": {
  "kernelspec": {
   "display_name": "Numpy Scipy",
   "language": "python",
   "name": "np-main"
  },
  "language_info": {
   "codemirror_mode": {
    "name": "ipython",
    "version": 3
   },
   "file_extension": ".py",
   "mimetype": "text/x-python",
   "name": "python",
   "nbconvert_exporter": "python",
   "pygments_lexer": "ipython3",
   "version": "3.9.2"
  }
 },
 "nbformat": 4,
 "nbformat_minor": 5
}
