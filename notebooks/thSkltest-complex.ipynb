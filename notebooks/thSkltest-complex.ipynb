{
 "cells": [
  {
   "cell_type": "markdown",
   "metadata": {},
   "source": [
    "# PyTorch test for Overlpap (Skl) Integrals and Gradients "
   ]
  },
  {
   "cell_type": "code",
   "execution_count": 1,
   "metadata": {},
   "outputs": [],
   "source": [
    "\n",
    "import torch as th\n",
    "\n",
    "import time"
   ]
  },
  {
   "cell_type": "code",
   "execution_count": 2,
   "metadata": {},
   "outputs": [
    {
     "name": "stdout",
     "output_type": "stream",
     "text": [
      "Execution device:  cpu\n",
      "PyTorch version:  1.8.0.dev20201112\n",
      "CUDA available:  True\n",
      "CUDA version:  11.0\n",
      "CUDA device: TITAN V\n"
     ]
    }
   ],
   "source": [
    "#dtype = th.float64   # Use float32 if you are on GeForce GPU\n",
    "dtype = th.cfloat\n",
    "gpuid = 0\n",
    "#device = th.device(\"cuda:\"+ str(gpuid))\n",
    "device = th.device(\"cpu\")  # un-comment to change back to CPU\n",
    "\n",
    "print(\"Execution device: \",device)\n",
    "print(\"PyTorch version: \", th.__version__ )\n",
    "print(\"CUDA available: \", th.cuda.is_available())\n",
    "print(\"CUDA version: \", th.version.cuda)\n",
    "print(\"CUDA device:\", th.cuda.get_device_name(gpuid))"
   ]
  },
  {
   "cell_type": "code",
   "execution_count": 107,
   "metadata": {},
   "outputs": [],
   "source": [
    "# Utility functions\n",
    "\n",
    "# return the lower triangle of A in column order i.e. vech(A)\n",
    "def vech(A):\n",
    "    count = 0\n",
    "    c = A.shape[0]\n",
    "    v = th.zeros(c * (c + 1) // 2,  device=device, dtype=dtype)\n",
    "    for j in range(c):\n",
    "        for i in range(j,c):\n",
    "            v[count] = A[i,j]\n",
    "            count += 1\n",
    "    #return th.tensor(v , device=device, dtype=dtype)\n",
    "    return v\n",
    "\n",
    "# vech2L   create lower triangular matrix L from vechA\n",
    "def vech2L(v,n):\n",
    "    count = 0\n",
    "    L = th.zeros((n,n), device=device, dtype=dtype)\n",
    "    for j in range(n):\n",
    "        for i in range(j,n):\n",
    "            L[i,j]=v[count]\n",
    "            count += 1\n",
    "    #return th.tensor(L , device=device, dtype=dtype)\n",
    "    return L\n",
    "\n",
    "# need to define prod by hand since it is not grad safe in pytorch\n",
    "def myprod(v):\n",
    "    p = 1\n",
    "    for i in v:\n",
    "        p *= i\n",
    "    return p"
   ]
  },
  {
   "cell_type": "code",
   "execution_count": 111,
   "metadata": {},
   "outputs": [],
   "source": [
    "def matrix_elements(n, vechLk, vechLl, Sym):\n",
    "    \n",
    "\n",
    "    Lk = vech2L(vechLk,n);\n",
    "    Ll = vech2L(vechLl,n);\n",
    "    \n",
    "    # apply symmetry projection on Ll\n",
    "    \n",
    "    # th.t() is shorthand for th.transpose(X, 0,1)\n",
    "    PLl = th.t(Sym) @ Ll;\n",
    "    \n",
    "    # build Ak, Al, Akl, invAkl, invAk, invAl\n",
    "\n",
    "    Ak = Lk@th.conj(th.t(Lk));\n",
    "    Al = PLl@th.conj(th.t(PLl));\n",
    "    Akl = Ak+Al;\n",
    "    \n",
    "    invAkl = th.inverse(Akl);\n",
    "    detLk = myprod(th.diagonal(Lk))\n",
    "    detLl = myprod(th.diagonal(Ll))\n",
    "    detAkl = myprod(th.diagonal(th.cholesky(Akl)))**2\n",
    "    \n",
    "    # Overlap: (normalized)\n",
    "    #skl = 2**(3*n/2) * th.sqrt( th.pow(th.abs(th.det(Lk))*th.abs(th.det(Ll))/th.det(Akl) ,3) );\n",
    "    skl = 2**(3*n/2) * th.sqrt( th.pow(th.abs(detLk)*th.abs(detLl)/detAkl ,3) );\n",
    "\n",
    "    #Analytic gradient formulas with respect to vechLk vechLl\n",
    "    checkdsk = vech( 3/2 * skl * (th.diag(1/th.diag(Lk)) - 2*invAkl@Lk) )\n",
    "    checkdsl = vech( 3/2 * skl * (th.diag(1/th.diag(Ll)) - 2*Sym@invAkl@PLl) )\n",
    "    \n",
    "    # Now get the gradient using autograd\n",
    "    dsk = 0 #th.autograd.grad(skl, vechLk, retain_graph=True)\n",
    "    # \n",
    "    dsl = 0 #th.autograd.grad(skl, vechLl)\n",
    "\n",
    "    \n",
    "    return {'skl':skl, 'dsk':dsk, 'dsl':dsl, 'checkdsk':checkdsk, 'checkdsl':checkdsl}"
   ]
  },
  {
   "cell_type": "code",
   "execution_count": 112,
   "metadata": {},
   "outputs": [],
   "source": [
    "def test_matrix_elements():\n",
    "    n = 3;\n",
    "    \n",
    "    # using numbers that I know the correct results for\n",
    "    vechLk = th.tensor([  1.00000039208682 + 1.0j, \n",
    "              0.02548044275764261+ 1.0j, \n",
    "              0.3525161612610669+ 1.0j,\n",
    "              1.6669144815242515+ 1.0j,\n",
    "              0.9630555318946559+ 1.0j,\n",
    "              1.8382882034659822+ 1.0j ], device=device, dtype=dtype, requires_grad=True);\n",
    "    \n",
    "    vechLl = th.tensor([  1.3353550436464964+ 1.0j,\n",
    "               0.9153272033682132+ 1.0j,\n",
    "               0.7958636766525028+ 1.0j,\n",
    "               1.8326931436447955+ 1.0j,\n",
    "               0.3450426931160630+ 1.0j,\n",
    "               1.8711839323167831+ 1.0j ], device=device, dtype=dtype, requires_grad=True);\n",
    "    \n",
    "    Sym = th.tensor([[0,0,1],\n",
    "                    [0,1,0],\n",
    "                    [1,0,0]], device=device, dtype=dtype);\n",
    " \n",
    "    matels = matrix_elements(n, vechLk, vechLl, Sym) \n",
    "    \n",
    "    print('skl:      ',matels['skl'])\n",
    "    print('dsk:      ',matels['dsk'])\n",
    "    print('checkdsk:  ',matels['checkdsk'])\n",
    "    print('dsl:      ',matels['dsl'])\n",
    "    print('checkdsl:  ',matels['checkdsl'])\n",
    "    "
   ]
  },
  {
   "cell_type": "code",
   "execution_count": 113,
   "metadata": {
    "scrolled": false
   },
   "outputs": [
    {
     "ename": "RuntimeError",
     "evalue": "sqrt does not support automatic differentiation for outputs with complex dtype.",
     "output_type": "error",
     "traceback": [
      "\u001b[0;31m---------------------------------------------------------------------------\u001b[0m",
      "\u001b[0;31mRuntimeError\u001b[0m                              Traceback (most recent call last)",
      "\u001b[0;32m<ipython-input-113-8e32784da8d0>\u001b[0m in \u001b[0;36m<module>\u001b[0;34m\u001b[0m\n\u001b[1;32m      4\u001b[0m \u001b[0;31m#print(\" took {} seconds \".format(time.time() - start_time))\u001b[0m\u001b[0;34m\u001b[0m\u001b[0;34m\u001b[0m\u001b[0;34m\u001b[0m\u001b[0m\n\u001b[1;32m      5\u001b[0m \u001b[0;34m\u001b[0m\u001b[0m\n\u001b[0;32m----> 6\u001b[0;31m \u001b[0mtest_matrix_elements\u001b[0m\u001b[0;34m(\u001b[0m\u001b[0;34m)\u001b[0m\u001b[0;34m\u001b[0m\u001b[0;34m\u001b[0m\u001b[0m\n\u001b[0m",
      "\u001b[0;32m<ipython-input-112-89a2eecdaf8e>\u001b[0m in \u001b[0;36mtest_matrix_elements\u001b[0;34m()\u001b[0m\n\u001b[1;32m     21\u001b[0m                     [1,0,0]], device=device, dtype=dtype);\n\u001b[1;32m     22\u001b[0m \u001b[0;34m\u001b[0m\u001b[0m\n\u001b[0;32m---> 23\u001b[0;31m     \u001b[0mmatels\u001b[0m \u001b[0;34m=\u001b[0m \u001b[0mmatrix_elements\u001b[0m\u001b[0;34m(\u001b[0m\u001b[0mn\u001b[0m\u001b[0;34m,\u001b[0m \u001b[0mvechLk\u001b[0m\u001b[0;34m,\u001b[0m \u001b[0mvechLl\u001b[0m\u001b[0;34m,\u001b[0m \u001b[0mSym\u001b[0m\u001b[0;34m)\u001b[0m\u001b[0;34m\u001b[0m\u001b[0;34m\u001b[0m\u001b[0m\n\u001b[0m\u001b[1;32m     24\u001b[0m \u001b[0;34m\u001b[0m\u001b[0m\n\u001b[1;32m     25\u001b[0m     \u001b[0mprint\u001b[0m\u001b[0;34m(\u001b[0m\u001b[0;34m'skl:      '\u001b[0m\u001b[0;34m,\u001b[0m\u001b[0mmatels\u001b[0m\u001b[0;34m[\u001b[0m\u001b[0;34m'skl'\u001b[0m\u001b[0;34m]\u001b[0m\u001b[0;34m)\u001b[0m\u001b[0;34m\u001b[0m\u001b[0;34m\u001b[0m\u001b[0m\n",
      "\u001b[0;32m<ipython-input-111-c705acd19078>\u001b[0m in \u001b[0;36mmatrix_elements\u001b[0;34m(n, vechLk, vechLl, Sym)\u001b[0m\n\u001b[1;32m     23\u001b[0m     \u001b[0;31m# Overlap: (normalized)\u001b[0m\u001b[0;34m\u001b[0m\u001b[0;34m\u001b[0m\u001b[0;34m\u001b[0m\u001b[0m\n\u001b[1;32m     24\u001b[0m     \u001b[0;31m#skl = 2**(3*n/2) * th.sqrt( th.pow(th.abs(th.det(Lk))*th.abs(th.det(Ll))/th.det(Akl) ,3) );\u001b[0m\u001b[0;34m\u001b[0m\u001b[0;34m\u001b[0m\u001b[0;34m\u001b[0m\u001b[0m\n\u001b[0;32m---> 25\u001b[0;31m     \u001b[0mskl\u001b[0m \u001b[0;34m=\u001b[0m \u001b[0;36m2\u001b[0m\u001b[0;34m**\u001b[0m\u001b[0;34m(\u001b[0m\u001b[0;36m3\u001b[0m\u001b[0;34m*\u001b[0m\u001b[0mn\u001b[0m\u001b[0;34m/\u001b[0m\u001b[0;36m2\u001b[0m\u001b[0;34m)\u001b[0m \u001b[0;34m*\u001b[0m \u001b[0mth\u001b[0m\u001b[0;34m.\u001b[0m\u001b[0msqrt\u001b[0m\u001b[0;34m(\u001b[0m \u001b[0mth\u001b[0m\u001b[0;34m.\u001b[0m\u001b[0mpow\u001b[0m\u001b[0;34m(\u001b[0m\u001b[0mth\u001b[0m\u001b[0;34m.\u001b[0m\u001b[0mabs\u001b[0m\u001b[0;34m(\u001b[0m\u001b[0mdetLk\u001b[0m\u001b[0;34m)\u001b[0m\u001b[0;34m*\u001b[0m\u001b[0mth\u001b[0m\u001b[0;34m.\u001b[0m\u001b[0mabs\u001b[0m\u001b[0;34m(\u001b[0m\u001b[0mdetLl\u001b[0m\u001b[0;34m)\u001b[0m\u001b[0;34m/\u001b[0m\u001b[0mdetAkl\u001b[0m \u001b[0;34m,\u001b[0m\u001b[0;36m3\u001b[0m\u001b[0;34m)\u001b[0m \u001b[0;34m)\u001b[0m\u001b[0;34m;\u001b[0m\u001b[0;34m\u001b[0m\u001b[0;34m\u001b[0m\u001b[0m\n\u001b[0m\u001b[1;32m     26\u001b[0m \u001b[0;34m\u001b[0m\u001b[0m\n\u001b[1;32m     27\u001b[0m     \u001b[0;31m#Analytic gradient formulas with respect to vechLk vechLl\u001b[0m\u001b[0;34m\u001b[0m\u001b[0;34m\u001b[0m\u001b[0;34m\u001b[0m\u001b[0m\n",
      "\u001b[0;31mRuntimeError\u001b[0m: sqrt does not support automatic differentiation for outputs with complex dtype."
     ]
    }
   ],
   "source": [
    "#start_time = time.time()\n",
    "#for i in range(1000):\n",
    "#    test_matel()\n",
    "#print(\" took {} seconds \".format(time.time() - start_time))\n",
    "\n",
    "test_matrix_elements()"
   ]
  },
  {
   "cell_type": "code",
   "execution_count": 57,
   "metadata": {},
   "outputs": [
    {
     "ename": "RuntimeError",
     "evalue": "cholesky_cpu: U(2,2) is zero, singular U.",
     "output_type": "error",
     "traceback": [
      "\u001b[0;31m---------------------------------------------------------------------------\u001b[0m",
      "\u001b[0;31mRuntimeError\u001b[0m                              Traceback (most recent call last)",
      "\u001b[0;32m<ipython-input-57-b563f20d2de0>\u001b[0m in \u001b[0;36m<module>\u001b[0;34m\u001b[0m\n\u001b[0;32m----> 1\u001b[0;31m \u001b[0mtest_matrix_elements\u001b[0m\u001b[0;34m(\u001b[0m\u001b[0;34m)\u001b[0m\u001b[0;34m\u001b[0m\u001b[0;34m\u001b[0m\u001b[0m\n\u001b[0m",
      "\u001b[0;32m<ipython-input-56-13eda01a558c>\u001b[0m in \u001b[0;36mtest_matrix_elements\u001b[0;34m()\u001b[0m\n\u001b[1;32m     21\u001b[0m                     [1,0,0]], device=device, dtype=dtype);\n\u001b[1;32m     22\u001b[0m \u001b[0;34m\u001b[0m\u001b[0m\n\u001b[0;32m---> 23\u001b[0;31m     \u001b[0mmatels\u001b[0m \u001b[0;34m=\u001b[0m \u001b[0mmatrix_elements\u001b[0m\u001b[0;34m(\u001b[0m\u001b[0mn\u001b[0m\u001b[0;34m,\u001b[0m \u001b[0mvechLk\u001b[0m\u001b[0;34m,\u001b[0m \u001b[0mvechLl\u001b[0m\u001b[0;34m,\u001b[0m \u001b[0mSym\u001b[0m\u001b[0;34m)\u001b[0m\u001b[0;34m\u001b[0m\u001b[0;34m\u001b[0m\u001b[0m\n\u001b[0m\u001b[1;32m     24\u001b[0m \u001b[0;34m\u001b[0m\u001b[0m\n\u001b[1;32m     25\u001b[0m     \u001b[0mprint\u001b[0m\u001b[0;34m(\u001b[0m\u001b[0;34m'skl:      '\u001b[0m\u001b[0;34m,\u001b[0m\u001b[0mmatels\u001b[0m\u001b[0;34m[\u001b[0m\u001b[0;34m'skl'\u001b[0m\u001b[0;34m]\u001b[0m\u001b[0;34m)\u001b[0m\u001b[0;34m\u001b[0m\u001b[0;34m\u001b[0m\u001b[0m\n",
      "\u001b[0;32m<ipython-input-55-97e068367694>\u001b[0m in \u001b[0;36mmatrix_elements\u001b[0;34m(n, vechLk, vechLl, Sym)\u001b[0m\n\u001b[1;32m     19\u001b[0m     \u001b[0mdetLk\u001b[0m \u001b[0;34m=\u001b[0m \u001b[0mth\u001b[0m\u001b[0;34m.\u001b[0m\u001b[0mprod\u001b[0m\u001b[0;34m(\u001b[0m\u001b[0mth\u001b[0m\u001b[0;34m.\u001b[0m\u001b[0mdiag\u001b[0m\u001b[0;34m(\u001b[0m\u001b[0mLk\u001b[0m\u001b[0;34m)\u001b[0m\u001b[0;34m)\u001b[0m\u001b[0;34m\u001b[0m\u001b[0;34m\u001b[0m\u001b[0m\n\u001b[1;32m     20\u001b[0m     \u001b[0mdetLl\u001b[0m \u001b[0;34m=\u001b[0m \u001b[0mth\u001b[0m\u001b[0;34m.\u001b[0m\u001b[0mprod\u001b[0m\u001b[0;34m(\u001b[0m\u001b[0mth\u001b[0m\u001b[0;34m.\u001b[0m\u001b[0mdiag\u001b[0m\u001b[0;34m(\u001b[0m\u001b[0mLl\u001b[0m\u001b[0;34m)\u001b[0m\u001b[0;34m)\u001b[0m\u001b[0;34m\u001b[0m\u001b[0;34m\u001b[0m\u001b[0m\n\u001b[0;32m---> 21\u001b[0;31m     \u001b[0mdetAkl\u001b[0m \u001b[0;34m=\u001b[0m \u001b[0mth\u001b[0m\u001b[0;34m.\u001b[0m\u001b[0mprod\u001b[0m\u001b[0;34m(\u001b[0m\u001b[0mth\u001b[0m\u001b[0;34m.\u001b[0m\u001b[0mdiag\u001b[0m\u001b[0;34m(\u001b[0m\u001b[0mth\u001b[0m\u001b[0;34m.\u001b[0m\u001b[0mcholesky\u001b[0m\u001b[0;34m(\u001b[0m\u001b[0mAkl\u001b[0m\u001b[0;34m)\u001b[0m\u001b[0;34m)\u001b[0m\u001b[0;34m)\u001b[0m\u001b[0;34m**\u001b[0m\u001b[0;36m2\u001b[0m\u001b[0;34m\u001b[0m\u001b[0;34m\u001b[0m\u001b[0m\n\u001b[0m\u001b[1;32m     22\u001b[0m \u001b[0;34m\u001b[0m\u001b[0m\n\u001b[1;32m     23\u001b[0m     \u001b[0;31m# Overlap: (normalized)\u001b[0m\u001b[0;34m\u001b[0m\u001b[0;34m\u001b[0m\u001b[0;34m\u001b[0m\u001b[0m\n",
      "\u001b[0;31mRuntimeError\u001b[0m: cholesky_cpu: U(2,2) is zero, singular U."
     ]
    }
   ],
   "source": [
    "test_matrix_elements()"
   ]
  },
  {
   "cell_type": "code",
   "execution_count": 45,
   "metadata": {},
   "outputs": [],
   "source": [
    "vechLk = th.tensor([  1.00000039208682 + 1.0j, \n",
    "              0.02548044275764261+ 1.0j, \n",
    "              0.3525161612610669+ 1.0j,\n",
    "              1.6669144815242515+ 1.0j,\n",
    "              0.9630555318946559+ 1.0j,\n",
    "              1.8382882034659822+ 1.0j ], device=device, dtype=dtype, requires_grad=False);"
   ]
  },
  {
   "cell_type": "code",
   "execution_count": 46,
   "metadata": {},
   "outputs": [],
   "source": [
    "vechLl = th.tensor([  1.3353550436464964+ 1.0j,\n",
    "               0.9153272033682132+ 1.0j,\n",
    "               0.7958636766525028+ 1.0j,\n",
    "               1.8326931436447955+ 1.0j,\n",
    "               0.3450426931160630+ 1.0j,\n",
    "               1.8711839323167831+ 1.0j ], device=device, dtype=dtype, requires_grad=False);"
   ]
  },
  {
   "cell_type": "code",
   "execution_count": 47,
   "metadata": {},
   "outputs": [],
   "source": [
    "Sym = th.tensor([[0,0,1],\n",
    "                    [0,1,0],\n",
    "                    [1,0,0]], device=device, dtype=dtype);"
   ]
  },
  {
   "cell_type": "code",
   "execution_count": 48,
   "metadata": {},
   "outputs": [
    {
     "data": {
      "text/plain": [
       "tensor([1.3354+1.j, 0.9153+1.j, 0.7959+1.j, 1.8327+1.j, 0.3450+1.j, 1.8712+1.j])"
      ]
     },
     "execution_count": 48,
     "metadata": {},
     "output_type": "execute_result"
    }
   ],
   "source": [
    "n=3\n",
    "Lk = vech2L(vechLk,n);\n",
    "Ll = vech2L(vechLl,n);\n",
    "vechLl"
   ]
  },
  {
   "cell_type": "code",
   "execution_count": 49,
   "metadata": {},
   "outputs": [
    {
     "data": {
      "text/plain": [
       "tensor([[0.7959+1.j, 0.3450+1.j, 1.8712+1.j],\n",
       "        [0.9153+1.j, 1.8327+1.j, 0.0000+0.j],\n",
       "        [1.3354+1.j, 0.0000+0.j, 0.0000+0.j]])"
      ]
     },
     "execution_count": 49,
     "metadata": {},
     "output_type": "execute_result"
    }
   ],
   "source": [
    "#PLl = th.t(Sym) @ Ll;\n",
    "th.t(Sym) @ Ll"
   ]
  },
  {
   "cell_type": "code",
   "execution_count": 95,
   "metadata": {},
   "outputs": [],
   "source": [
    "W = th.rand(3,3)\n",
    "#+th.eye(3)\n",
    "W = th.mm(W, th.t(W))"
   ]
  },
  {
   "cell_type": "code",
   "execution_count": 96,
   "metadata": {},
   "outputs": [
    {
     "data": {
      "text/plain": [
       "tensor(0.2346)"
      ]
     },
     "execution_count": 96,
     "metadata": {},
     "output_type": "execute_result"
    }
   ],
   "source": [
    "th.det(W)"
   ]
  },
  {
   "cell_type": "code",
   "execution_count": 97,
   "metadata": {},
   "outputs": [
    {
     "data": {
      "text/plain": [
       "tensor(0.2346)"
      ]
     },
     "execution_count": 97,
     "metadata": {},
     "output_type": "execute_result"
    }
   ],
   "source": [
    "#Wd=th.diag(th.cholesky(W))\n",
    "th.prod(th.diag(th.cholesky(W)))**2"
   ]
  },
  {
   "cell_type": "code",
   "execution_count": 98,
   "metadata": {},
   "outputs": [
    {
     "data": {
      "text/plain": [
       "tensor([[ 3.4700, -2.2685,  0.0946],\n",
       "        [-2.2685,  2.5788, -1.4170],\n",
       "        [ 0.0946, -1.4170,  2.7998]])"
      ]
     },
     "execution_count": 98,
     "metadata": {},
     "output_type": "execute_result"
    }
   ],
   "source": [
    "th.inverse(W)"
   ]
  },
  {
   "cell_type": "code",
   "execution_count": null,
   "metadata": {},
   "outputs": [],
   "source": []
  }
 ],
 "metadata": {
  "kernelspec": {
   "display_name": "pt18",
   "language": "python",
   "name": "pt18"
  },
  "language_info": {
   "codemirror_mode": {
    "name": "ipython",
    "version": 3
   },
   "file_extension": ".py",
   "mimetype": "text/x-python",
   "name": "python",
   "nbconvert_exporter": "python",
   "pygments_lexer": "ipython3",
   "version": "3.8.5"
  }
 },
 "nbformat": 4,
 "nbformat_minor": 2
}
